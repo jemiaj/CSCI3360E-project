{
 "cells": [
  {
   "cell_type": "markdown",
   "id": "406cdf1a-e167-49d4-a7a7-54479104257e",
   "metadata": {},
   "source": [
    "## Final Project Group 2 on Titanic"
   ]
  },
  {
   "cell_type": "markdown",
   "id": "d4c08e37",
   "metadata": {},
   "source": [
    "### by Jemia Johnson, Fares Barghouthi, Noah Florence, Ibukun Omosalewa"
   ]
  },
  {
   "cell_type": "markdown",
   "id": "de16ffac-22fc-4a47-aa34-fd21ccc26c3e",
   "metadata": {},
   "source": [
    "link to dataset: https://www.kaggle.com/c/titanic/data"
   ]
  },
  {
   "cell_type": "markdown",
   "id": "06023802",
   "metadata": {},
   "source": [
    "This dataset contains detailed information about the passengers aboard the Titanic, including their survival status. We will conduct Exploratory Data Analysis (EDA) and Data Visualization to uncover patterns and insights within the data. Subsequently, we will build and evaluate various predictive models, including Decision Tree, K-Nearest Neighbors (KNN), Logistic Regression, and Naive Bayes, to estimate the likelihood of passenger survival. Each model will be assessed for its performance, providing a comprehensive understanding of the factors influencing survival probabilities.\n"
   ]
  },
  {
   "cell_type": "code",
   "execution_count": 10,
   "id": "b8afa248-9436-455f-baa2-262eae143ab8",
   "metadata": {
    "scrolled": true
   },
   "outputs": [],
   "source": [
    "import pandas as pd\n",
    "from sklearn.model_selection import train_test_split\n",
    "from sklearn.preprocessing import LabelEncoder\n",
    "from sklearn.naive_bayes import GaussianNB\n",
    "from sklearn import metrics\n",
    "from sklearn.neighbors import KNeighborsClassifier\n",
    "from sklearn.preprocessing import StandardScaler\n",
    "from sklearn.metrics import accuracy_score, precision_score, recall_score, f1_score, confusion_matrix, classification_report"
   ]
  },
  {
   "cell_type": "markdown",
   "id": "ec5fbfb7",
   "metadata": {},
   "source": [
    "## Loading Data"
   ]
  },
  {
   "cell_type": "code",
   "execution_count": 11,
   "id": "12f70d41-4115-4d85-85d6-72c67110e533",
   "metadata": {},
   "outputs": [
    {
     "name": "stdout",
     "output_type": "stream",
     "text": [
      "Training Data:\n",
      "   PassengerId  Survived  Pclass  \\\n",
      "0            1         0       3   \n",
      "1            2         1       1   \n",
      "2            3         1       3   \n",
      "3            4         1       1   \n",
      "4            5         0       3   \n",
      "\n",
      "                                                Name     Sex   Age  SibSp  \\\n",
      "0                            Braund, Mr. Owen Harris    male  22.0      1   \n",
      "1  Cumings, Mrs. John Bradley (Florence Briggs Th...  female  38.0      1   \n",
      "2                             Heikkinen, Miss. Laina  female  26.0      0   \n",
      "3       Futrelle, Mrs. Jacques Heath (Lily May Peel)  female  35.0      1   \n",
      "4                           Allen, Mr. William Henry    male  35.0      0   \n",
      "\n",
      "   Parch            Ticket     Fare Cabin Embarked  \n",
      "0      0         A/5 21171   7.2500   NaN        S  \n",
      "1      0          PC 17599  71.2833   C85        C  \n",
      "2      0  STON/O2. 3101282   7.9250   NaN        S  \n",
      "3      0            113803  53.1000  C123        S  \n",
      "4      0            373450   8.0500   NaN        S  \n",
      "\n",
      "Testing Data:\n",
      "   PassengerId  Pclass                                          Name     Sex  \\\n",
      "0          892       3                              Kelly, Mr. James    male   \n",
      "1          893       3              Wilkes, Mrs. James (Ellen Needs)  female   \n",
      "2          894       2                     Myles, Mr. Thomas Francis    male   \n",
      "3          895       3                              Wirz, Mr. Albert    male   \n",
      "4          896       3  Hirvonen, Mrs. Alexander (Helga E Lindqvist)  female   \n",
      "\n",
      "    Age  SibSp  Parch   Ticket     Fare Cabin Embarked  \n",
      "0  34.5      0      0   330911   7.8292   NaN        Q  \n",
      "1  47.0      1      0   363272   7.0000   NaN        S  \n",
      "2  62.0      0      0   240276   9.6875   NaN        Q  \n",
      "3  27.0      0      0   315154   8.6625   NaN        S  \n",
      "4  22.0      1      1  3101298  12.2875   NaN        S  \n"
     ]
    }
   ],
   "source": [
    "# Load the training data\n",
    "train_df = pd.read_csv('titanic/train.csv')\n",
    "\n",
    "# Load the testing data\n",
    "test_df = pd.read_csv('titanic/test.csv')\n",
    "\n",
    "# Display the first few rows of each dataset to verify they loaded correctly\n",
    "print(\"Training Data:\")\n",
    "print(train_df.head())\n",
    "\n",
    "print(\"\\nTesting Data:\")\n",
    "print(test_df.head())"
   ]
  },
  {
   "cell_type": "markdown",
   "id": "3ef68f51",
   "metadata": {},
   "source": [
    "## Check for missing values"
   ]
  },
  {
   "cell_type": "code",
   "execution_count": 12,
   "id": "87998bfb-8a85-48d7-b1f3-45f1b4ab141c",
   "metadata": {},
   "outputs": [
    {
     "name": "stdout",
     "output_type": "stream",
     "text": [
      "PassengerId      0\n",
      "Survived         0\n",
      "Pclass           0\n",
      "Name             0\n",
      "Sex              0\n",
      "Age            177\n",
      "SibSp            0\n",
      "Parch            0\n",
      "Ticket           0\n",
      "Fare             0\n",
      "Cabin          687\n",
      "Embarked         2\n",
      "dtype: int64\n",
      "PassengerId      0\n",
      "Pclass           0\n",
      "Name             0\n",
      "Sex              0\n",
      "Age             86\n",
      "SibSp            0\n",
      "Parch            0\n",
      "Ticket           0\n",
      "Fare             1\n",
      "Cabin          327\n",
      "Embarked         0\n",
      "dtype: int64\n"
     ]
    }
   ],
   "source": [
    "# Check for missing values in the training data\n",
    "print(train_df.isnull().sum())\n",
    "\n",
    "# Check for missing values in the testing data\n",
    "print(test_df.isnull().sum())"
   ]
  },
  {
   "cell_type": "markdown",
   "id": "ebcd3296",
   "metadata": {},
   "source": [
    "## Fill in missing values"
   ]
  },
  {
   "cell_type": "code",
   "execution_count": 13,
   "id": "58f43222-fb53-43a7-ab4f-be86f6abcf4d",
   "metadata": {},
   "outputs": [],
   "source": [
    "# Fill missing values\n",
    "def fill_missing(df, cols, method='median'):\n",
    "    for col in cols:\n",
    "        if method == 'median':\n",
    "            df[col] = df[col].fillna(df[col].median())\n",
    "        elif method == 'mode':\n",
    "            df[col] = df[col].fillna(df[col].mode()[0])\n",
    "\n",
    "# Apply fill_missing\n",
    "fill_missing(train_df, ['Age', 'Fare'])\n",
    "fill_missing(test_df, ['Age', 'Fare'])\n",
    "fill_missing(train_df, ['Embarked'], method='mode')\n",
    "fill_missing(test_df, ['Embarked'], method='mode')\n",
    "\n",
    "# Fill 'Cabin' column with 'Unknown' for consistency\n",
    "train_df['Cabin'] = train_df['Cabin'].fillna('Unknown')\n",
    "test_df['Cabin'] = test_df['Cabin'].fillna('Unknown')\n",
    "\n",
    "# Encode 'Sex' column\n",
    "train_df['Sex'] = (train_df['Sex'] == 'female').astype(int)\n",
    "test_df['Sex'] = (test_df['Sex'] == 'female').astype(int)\n",
    "\n",
    "# Final data initialization and scaling\n",
    "features = ['Sex', 'Age', 'Fare']\n",
    "X_train = train_df[features]\n",
    "y_train = train_df['Survived']\n",
    "scaler = StandardScaler()\n",
    "X_train_scaled = scaler.fit_transform(X_train)\n",
    "\n",
    "# Train-test split\n",
    "X_train, X_val, y_train, y_val = train_test_split(X_train_scaled, y_train, test_size=0.2, random_state=31)"
   ]
  },
  {
   "cell_type": "markdown",
   "id": "d25e87b9",
   "metadata": {},
   "source": [
    "## Exporatory Data Analysis"
   ]
  },
  {
   "cell_type": "markdown",
   "id": "896bf1d2",
   "metadata": {},
   "source": [
    "### Mean"
   ]
  },
  {
   "cell_type": "code",
   "execution_count": 19,
   "id": "f486c4e7",
   "metadata": {},
   "outputs": [
    {
     "name": "stdout",
     "output_type": "stream",
     "text": [
      "Mean Age of Passengers: 29.36158249158249\n",
      "Mean Fare of Passengers: 32.204207968574636\n"
     ]
    }
   ],
   "source": [
    "# Define a function to calculate the mean of a series\n",
    "def calculate_mean(series):\n",
    "    return series.sum() / len(series)\n",
    "    \n",
    "# Calculate the mean age and mean fare for all passengers, dropping NaN values\n",
    "mean_age_all = calculate_mean(train_df['Age'].dropna())\n",
    "mean_fare_all = calculate_mean(train_df['Fare'].dropna())\n",
    "\n",
    "# Print the mean age and mean fare of passengers\n",
    "print(f\"Mean Age of Passengers: {mean_age_all}\")\n",
    "print(f\"Mean Fare of Passengers: {mean_fare_all}\")"
   ]
  },
  {
   "cell_type": "code",
   "execution_count": 20,
   "id": "506435cf",
   "metadata": {},
   "outputs": [
    {
     "name": "stdout",
     "output_type": "stream",
     "text": [
      "Mean Age of Survivors: 28.29143274853801\n",
      "Mean Fare of Survivors: 48.39540760233918\n"
     ]
    }
   ],
   "source": [
    "def calculate_mean(series):\n",
    "    return series.sum() / len(series)\n",
    "\n",
    "survivors = train_df[train_df['Survived'] == 1]\n",
    "\n",
    "mean_age_survivors = calculate_mean(survivors['Age'].dropna())  # Drop NaN values\n",
    "mean_fare_survivors = calculate_mean(survivors['Fare'].dropna())  # Drop NaN values\n",
    "\n",
    "print(f\"Mean Age of Survivors: {mean_age_survivors}\")\n",
    "print(f\"Mean Fare of Survivors: {mean_fare_survivors}\")"
   ]
  },
  {
   "cell_type": "markdown",
   "id": "c7497694",
   "metadata": {},
   "source": [
    "### Interpretation of Mean\n",
    "\n",
    "Looking at the rates of All passangers, regardless of survival, the average age is 29 years old while the average fare is $32 dollars.\n",
    "\n",
    "What we can see from this is, The average age of survivors is 28 years old, while the average fare of survivors is $48.95.\n",
    "\n",
    "This shows a light identification that those who paid more for their fare have a higher chance of survival, though nothing is confirmed yet. For that we will run further analyses."
   ]
  },
  {
   "cell_type": "markdown",
   "id": "2f773f54",
   "metadata": {},
   "source": [
    "### Median"
   ]
  },
  {
   "cell_type": "code",
   "execution_count": 21,
   "id": "5a1017f8",
   "metadata": {},
   "outputs": [
    {
     "name": "stdout",
     "output_type": "stream",
     "text": [
      "Median Age of Survivors: 28.0\n",
      "Median Fare of Survivors: 26.0\n",
      "Median Age of All Passengers: 28.0\n",
      "Median Fare of All Passengers: 14.4542\n"
     ]
    }
   ],
   "source": [
    "def calculate_median(series):\n",
    "    return series.median()\n",
    "\n",
    "median_age_survivors = calculate_median(survivors['Age'].dropna())  # Drop NaN values\n",
    "median_fare_survivors = calculate_median(survivors['Fare'].dropna())  # Drop NaN values\n",
    "\n",
    "median_age_all = calculate_median(train_df['Age'].dropna())  # Drop NaN values\n",
    "median_fare_all = calculate_median(train_df['Fare'].dropna())  # Drop NaN values\n",
    "\n",
    "print(f\"Median Age of Survivors: {median_age_survivors}\")\n",
    "print(f\"Median Fare of Survivors: {median_fare_survivors}\")\n",
    "print(f\"Median Age of All Passengers: {median_age_all}\")\n",
    "print(f\"Median Fare of All Passengers: {median_fare_all}\")"
   ]
  },
  {
   "cell_type": "markdown",
   "id": "203b7b83",
   "metadata": {},
   "source": [
    "### Interpretation of Median\n",
    "What we can see here is the age tends to be the same, but \n",
    "the median fare for survivors is significantly higher than the median fare for all passengers, suggesting that those who paid higher fares had a better chance of survival."
   ]
  },
  {
   "cell_type": "markdown",
   "id": "fa3e221d",
   "metadata": {},
   "source": [
    "### Standard Deviation"
   ]
  },
  {
   "cell_type": "code",
   "execution_count": 22,
   "id": "faae9633",
   "metadata": {},
   "outputs": [
    {
     "name": "stdout",
     "output_type": "stream",
     "text": [
      "Standard Deviation of Age of Survivors: 13.764425373371033\n",
      "Standard Deviation of Fare of Survivors: 66.59699811829475\n",
      "Standard Deviation of Age of All Passengers: 13.019696550973201\n",
      "Standard Deviation of Fare of All Passengers: 49.6934285971809\n"
     ]
    }
   ],
   "source": [
    "#Standard Deviation \n",
    "std_age_survivors = survivors['Age'].dropna().std() \n",
    "std_fare_survivors = survivors['Fare'].dropna().std() \n",
    "\n",
    "std_age_all = train_df['Age'].dropna().std()  \n",
    "std_fare_all = train_df['Fare'].dropna().std() \n",
    "\n",
    "print(f\"Standard Deviation of Age of Survivors: {std_age_survivors}\")\n",
    "print(f\"Standard Deviation of Fare of Survivors: {std_fare_survivors}\")\n",
    "print(f\"Standard Deviation of Age of All Passengers: {std_age_all}\")\n",
    "print(f\"Standard Deviation of Fare of All Passengers: {std_fare_all}\")"
   ]
  },
  {
   "cell_type": "code",
   "execution_count": 23,
   "id": "d1665d30",
   "metadata": {},
   "outputs": [
    {
     "name": "stdout",
     "output_type": "stream",
     "text": [
      "Standard Deviation of Age of Survivors: 13.764425373371033\n",
      "Standard Deviation of Fare of Survivors: 66.59699811829475\n",
      "Standard Deviation of Age of All Passengers: 13.019696550973201\n",
      "Standard Deviation of Fare of All Passengers: 49.6934285971809\n"
     ]
    }
   ],
   "source": [
    "#Standard Deviation \n",
    "std_age_survivors = survivors['Age'].dropna().std() \n",
    "std_fare_survivors = survivors['Fare'].dropna().std() \n",
    "\n",
    "std_age_all = train_df['Age'].dropna().std()  \n",
    "std_fare_all = train_df['Fare'].dropna().std() \n",
    "\n",
    "print(f\"Standard Deviation of Age of Survivors: {std_age_survivors}\")\n",
    "print(f\"Standard Deviation of Fare of Survivors: {std_fare_survivors}\")\n",
    "print(f\"Standard Deviation of Age of All Passengers: {std_age_all}\")\n",
    "print(f\"Standard Deviation of Fare of All Passengers: {std_fare_all}\")"
   ]
  },
  {
   "cell_type": "markdown",
   "id": "1f320dc1",
   "metadata": {},
   "source": [
    "### Interpretaion of SD\n",
    "The standard deviation of fare for survivors is much higher than for all passengers, indicating a wider range of fare prices among those who survived. The standard deviation of age is similar for both survivors and all passengers, suggesting that age variability was consistent regardless of survival."
   ]
  },
  {
   "cell_type": "markdown",
   "id": "e34f08e3",
   "metadata": {},
   "source": [
    "### Variance"
   ]
  },
  {
   "cell_type": "code",
   "execution_count": 24,
   "id": "a5763496",
   "metadata": {},
   "outputs": [
    {
     "name": "stdout",
     "output_type": "stream",
     "text": [
      "Variance of Age of Survivors: 189.45940585910031\n",
      "Variance of Fare of Survivors: 4435.160158368154\n",
      "Variance of Age of All Passengers: 169.51249827942345\n",
      "Variance of Fare of All Passengers: 2469.436845743116\n"
     ]
    }
   ],
   "source": [
    "def calculate_variance(series):\n",
    "    mean_value = series.mean()\n",
    "    return ((series - mean_value) ** 2).sum() / (len(series) - 1)\n",
    "\n",
    "var_age_survivors = calculate_variance(survivors['Age'].dropna())  # Drop NaN values\n",
    "var_fare_survivors = calculate_variance(survivors['Fare'].dropna())  # Drop NaN values\n",
    "\n",
    "var_age_all = calculate_variance(train_df['Age'].dropna())  # Drop NaN values\n",
    "var_fare_all = calculate_variance(train_df['Fare'].dropna())  # Drop NaN values\n",
    "\n",
    "print(f\"Variance of Age of Survivors: {var_age_survivors}\")\n",
    "print(f\"Variance of Fare of Survivors: {var_fare_survivors}\")\n",
    "print(f\"Variance of Age of All Passengers: {var_age_all}\")\n",
    "print(f\"Variance of Fare of All Passengers: {var_fare_all}\")"
   ]
  },
  {
   "cell_type": "markdown",
   "id": "1f5ff540",
   "metadata": {},
   "source": [
    "### Interpretation of Variance\n",
    "The variance of fare for survivors is significantly higher than for all passengers, indicating greater variability in the fares paid by those who survived. The variance of age is slightly higher for survivors compared to all passengers, suggesting a slightly wider age range among those who survived."
   ]
  },
  {
   "cell_type": "markdown",
   "id": "adfb3c6e",
   "metadata": {},
   "source": [
    "### Correlation"
   ]
  },
  {
   "cell_type": "code",
   "execution_count": 25,
   "id": "ce227953",
   "metadata": {},
   "outputs": [
    {
     "name": "stdout",
     "output_type": "stream",
     "text": [
      "Correlation between Age and Fare of Survivors: 0.15950948760336242\n",
      "Correlation between Age and Fare of All Passengers: 0.0966884221803649\n"
     ]
    }
   ],
   "source": [
    "# Calculate the correlation between Age and Fare for survivors\n",
    "correlation_age_fare_survivors = survivors[['Age', 'Fare']].dropna().corr().iloc[0, 1]\n",
    "\n",
    "# Calculate the correlation between Age and Fare for all passengers\n",
    "correlation_age_fare_all = train_df[['Age', 'Fare']].dropna().corr().iloc[0, 1]\n",
    "\n",
    "# Print the correlations\n",
    "print(f\"Correlation between Age and Fare of Survivors: {correlation_age_fare_survivors}\")\n",
    "print(f\"Correlation between Age and Fare of All Passengers: {correlation_age_fare_all}\")"
   ]
  },
  {
   "cell_type": "markdown",
   "id": "4c68075e",
   "metadata": {},
   "source": [
    "### Interpretation of Correlation\n",
    "The weak positive correlations indicate that there is a slight tendency for older passengers to have paid higher fares, but the relationship is minimal for both survivors and all passengers, suggesting that age and fare are not strong predictors of survival. or are they??? lets find out shortly with some predictor models! "
   ]
  },
  {
   "cell_type": "markdown",
   "id": "baa78b50",
   "metadata": {},
   "source": [
    "### Correlation"
   ]
  },
  {
   "cell_type": "code",
   "execution_count": 27,
   "id": "eacd8f8f",
   "metadata": {},
   "outputs": [
    {
     "name": "stdout",
     "output_type": "stream",
     "text": [
      "Covariance between Age and Fare of Survivors: 146.2174680008059\n",
      "Covariance between Age and Fare of All Passengers: 62.55676722782508\n"
     ]
    }
   ],
   "source": [
    "covariance_age_fare_survivors = survivors[['Age', 'Fare']].dropna().cov().iloc[0, 1]\n",
    "\n",
    "covariance_age_fare_all = train_df[['Age', 'Fare']].dropna().cov().iloc[0, 1]\n",
    "\n",
    "print(f\"Covariance between Age and Fare of Survivors: {covariance_age_fare_survivors}\")\n",
    "print(f\"Covariance between Age and Fare of All Passengers: {covariance_age_fare_all}\")"
   ]
  },
  {
   "cell_type": "markdown",
   "id": "80c59fd1",
   "metadata": {},
   "source": [
    "### Interpretation of Covaraince\n",
    "The covariance values indicate that there is some level of joint variability between age and fare; specifically, the higher covariance among survivors (171.34) compared to all passengers (73.85) suggests that age and fare vary together more significantly in the group of survivors, implying that higher fares paid by older passengers could have had an influence on their likelihood of survival."
   ]
  },
  {
   "cell_type": "markdown",
   "id": "b4e5c06c",
   "metadata": {},
   "source": [
    "## Data Visualization\n"
   ]
  },
  {
   "cell_type": "markdown",
   "id": "0737e48c",
   "metadata": {},
   "source": [
    "### Histogram"
   ]
  },
  {
   "cell_type": "code",
   "execution_count": 30,
   "id": "37e20d72",
   "metadata": {},
   "outputs": [
    {
     "data": {
      "image/png": "[encoded data removed]",
      "text/plain": [
       "<Figure size 1000x500 with 2 Axes>"
      ]
     },
     "metadata": {},
     "output_type": "display_data"
    }
   ],
   "source": [
    "import matplotlib.pyplot as plt\n",
    "\n",
    "age_survivors = survivors['Age'].dropna()\n",
    "fare_survivors = survivors['Fare'].dropna()\n",
    "\n",
    "# Histogram for Age and Fare of Survivors\n",
    "plt.figure(figsize=(10, 5))\n",
    "\n",
    "# Histogram for Age of Survivors\n",
    "plt.subplot(1, 2, 1)\n",
    "plt.hist(age_survivors, bins=20, edgecolor='black')\n",
    "plt.title('Distribution of Age of Survivors')\n",
    "plt.xlabel('Age')\n",
    "plt.ylabel('Frequency')\n",
    "\n",
    "# Histogram for Fare of Survivors\n",
    "plt.subplot(1, 2, 2)\n",
    "plt.hist(fare_survivors, bins=20, edgecolor='black')\n",
    "plt.title('Distribution of Fare of Survivors')\n",
    "plt.xlabel('Fare')\n",
    "plt.ylabel('Frequency')\n",
    "\n",
    "plt.tight_layout()\n",
    "plt.show()"
   ]
  },
  {
   "cell_type": "markdown",
   "id": "77fbd342",
   "metadata": {},
   "source": [
    "### Interpretation of Histogram\n",
    "The histograms show that the age distribution of survivors is relatively uniform with a slight peak around young adults, suggesting that survival was not strongly influenced by age. The fare distribution, however, is skewed towards higher values, indicating that those who paid higher fares had a better chance of survival."
   ]
  },
  {
   "cell_type": "markdown",
   "id": "f03f5157",
   "metadata": {},
   "source": [
    "### Box Plot"
   ]
  },
  {
   "cell_type": "code",
   "execution_count": 31,
   "id": "ae8da926",
   "metadata": {},
   "outputs": [
    {
     "data": {
      "image/png": "[encoded data removed]",
      "text/plain": [
       "<Figure size 1000x500 with 2 Axes>"
      ]
     },
     "metadata": {},
     "output_type": "display_data"
    }
   ],
   "source": [
    "import matplotlib.pyplot as plt\n",
    "\n",
    "plt.figure(figsize=(10, 5))\n",
    "\n",
    "# Box Plot for Age of Survivors\n",
    "plt.subplot(1, 2, 1)\n",
    "plt.boxplot(age_survivors, vert=False, patch_artist=True, boxprops=dict(facecolor='lightblue'))\n",
    "plt.title('Box Plot of Age of Survivors')\n",
    "plt.xlabel('Age')\n",
    "\n",
    "# Box Plot for Fare of Survivors\n",
    "plt.subplot(1, 2, 2)\n",
    "plt.boxplot(fare_survivors, vert=False, patch_artist=True, boxprops=dict(facecolor='lightgreen'))\n",
    "plt.title('Box Plot of Fare of Survivors')\n",
    "plt.xlabel('Fare')\n",
    "\n",
    "plt.tight_layout()\n",
    "plt.show()"
   ]
  },
  {
   "cell_type": "markdown",
   "id": "e871180d",
   "metadata": {},
   "source": [
    "### Interpretaion of Box Plot\n",
    "The box plot for the age of survivors shows a relatively symmetric distribution with few outliers, indicating that most survivors were within a certain age range without extreme values. The box plot for the fare of survivors reveals a highly skewed distribution with several outliers, suggesting that a significant number of survivors paid higher fares, which could have contributed to their likelihood of survival."
   ]
  },
  {
   "cell_type": "markdown",
   "id": "bdd2843f",
   "metadata": {},
   "source": [
    "### Bar Plot"
   ]
  },
  {
   "cell_type": "code",
   "execution_count": 32,
   "id": "009317b7",
   "metadata": {},
   "outputs": [
    {
     "data": {
      "image/png": "[encoded data removed]",
      "text/plain": [
       "<Figure size 1000x500 with 2 Axes>"
      ]
     },
     "metadata": {},
     "output_type": "display_data"
    }
   ],
   "source": [
    "import matplotlib.pyplot as plt\n",
    "\n",
    "# Calculate survival rates\n",
    "class_survival_rate = train_df.groupby('Pclass')['Survived'].mean()\n",
    "embarked_survival_rate = train_df.groupby('Embarked')['Survived'].mean()\n",
    "\n",
    "# Bar Plot for Class Survival Rate\n",
    "plt.figure(figsize=(10, 5))\n",
    "\n",
    "plt.subplot(1, 2, 1)\n",
    "plt.bar(class_survival_rate.index, class_survival_rate.values, color='skyblue')\n",
    "plt.title('Survival Rate by Class')\n",
    "plt.xlabel('Class')\n",
    "plt.ylabel('Survival Rate')\n",
    "\n",
    "# Bar Plot for Embarkation Point Survival Rate\n",
    "plt.subplot(1, 2, 2)\n",
    "plt.bar(embarked_survival_rate.index, embarked_survival_rate.values, color='lightgreen')\n",
    "plt.title('Survival Rate by Embarkation Point')\n",
    "plt.xlabel('Embarkation Point')\n",
    "plt.ylabel('Survival Rate')\n",
    "\n",
    "plt.tight_layout()\n",
    "plt.show()"
   ]
  },
  {
   "cell_type": "markdown",
   "id": "f4760b90",
   "metadata": {},
   "source": [
    "#\n",
    "Passengers in the 1st class had the highest survival rate, over 60%, while those in the 3rd class had the lowest survival rate, below 30%, indicating that higher class passengers had better access to lifeboats and safety. Passengers who embarked at Cherbourg (C) had the highest survival rate, above 50%, whereas those from Southampton (S) had the lowest survival rate, around 30%, suggesting that embarkation point might be associated with factors affecting survival chances."
   ]
  },
  {
   "cell_type": "code",
   "execution_count": 45,
   "id": "95ac93cf",
   "metadata": {},
   "outputs": [
    {
     "data": {
      "image/png": "[encoded data removed]",
      "text/plain": [
       "<Figure size 1000x500 with 1 Axes>"
      ]
     },
     "metadata": {},
     "output_type": "display_data"
    }
   ],
   "source": [
    "import matplotlib.pyplot as plt\n",
    "\n",
    "# Data for survivors\n",
    "age_fare_survivors = survivors[['Age', 'Fare']].dropna()\n",
    "\n",
    "# Scatter Plot for Age vs. Fare among Survivors\n",
    "plt.figure(figsize=(10, 5))\n",
    "plt.scatter(age_fare_survivors['Age'], age_fare_survivors['Fare'], alpha=0.5, c='blue')\n",
    "plt.title('Scatter Plot of Age vs. Fare among Survivors')\n",
    "plt.xlabel('Age')\n",
    "plt.ylabel('Fare')\n",
    "plt.show()"
   ]
  },
  {
   "cell_type": "markdown",
   "id": "65397781",
   "metadata": {},
   "source": [
    "The scatter plot shows that there is no strong relationship between age and fare among survivors. Most survivors paid fares under 100, regardless of age, but a few outliers paid significantly higher fares, indicating that higher fares might have increased the chances of survival for some passengers across different age groups."
   ]
  },
  {
   "cell_type": "markdown",
   "id": "1030d6c0",
   "metadata": {},
   "source": [
    "## kNN Model (Noah)"
   ]
  },
  {
   "cell_type": "code",
   "execution_count": 46,
   "id": "8855e5e9",
   "metadata": {},
   "outputs": [
    {
     "name": "stdout",
     "output_type": "stream",
     "text": [
      "Model Prediction on Training Data\n",
      "              precision    recall  f1-score   support\n",
      "\n",
      "           0       0.81      0.85      0.83       450\n",
      "           1       0.72      0.65      0.68       262\n",
      "\n",
      "    accuracy                           0.78       712\n",
      "   macro avg       0.76      0.75      0.75       712\n",
      "weighted avg       0.77      0.78      0.77       712\n",
      "\n",
      "[[384  66]\n",
      " [ 93 169]]\n",
      "Model Prediction on Validation Data\n",
      "              precision    recall  f1-score   support\n",
      "\n",
      "           0       0.73      0.86      0.79        99\n",
      "           1       0.77      0.60      0.68        80\n",
      "\n",
      "    accuracy                           0.74       179\n",
      "   macro avg       0.75      0.73      0.73       179\n",
      "weighted avg       0.75      0.74      0.74       179\n",
      "\n",
      "[[85 14]\n",
      " [32 48]]\n"
     ]
    }
   ],
   "source": [
    "# Train kNN Model\n",
    "model = KNeighborsClassifier(27)\n",
    "model.fit(X_train, y_train)\n",
    "\n",
    "y_train_pred = model.predict(X_train)\n",
    "y_val_pred = model.predict(X_val)\n",
    "\n",
    "print(\"Model Prediction on Training Data\")\n",
    "print(metrics.classification_report(y_train, y_train_pred))\n",
    "print(metrics.confusion_matrix(y_train, y_train_pred))\n",
    "\n",
    "print(\"Model Prediction on Validation Data\")\n",
    "print(metrics.classification_report(y_val, y_val_pred))\n",
    "print(metrics.confusion_matrix(y_val, y_val_pred))"
   ]
  },
  {
   "cell_type": "markdown",
   "id": "b7020042",
   "metadata": {},
   "source": [
    "### Gender\n",
    "The gender of the passengers, which is defined as 0 for male and 1 for female, is an indicator of survival probability for the dataset under the k-Nearest Neighbors model. By analyzing the data, we can see that all of the females have a higher survival probability than all of the males. The lowest survival probability among women was 0.518519, while the highest survival probability for men was only 0.333333.\n",
    "\n",
    "### Age\n",
    "Age is less of an indicator of survival probability for the dataset under the k-Nearest Neighbors model. As the data shows, there are relatively similar clusters of age both at the higher and lower proabilities for survival. While it is slightly more likely for a younger person to have a higher rate of survival, there are also some potential outliers within the randomly selected dataset that do not give much strength to this claim.\n",
    "\n",
    "### Fare\n",
    "The fare of the passengers is a good indicator of survival rate based on the k-Nearest Neighbors model. From the random testing selection, we can see that the lower fares paid tended to have a lower survival probability. On the other hand, the higher fares were more likely to have higher survival probabilities. In particular, the largest value within this selection was a significantly higher fare and survival probability than the rest of the passengers (134.5 farte and 0.925926 survival probability)\n",
    "\n",
    "### Concluding Remarks\n",
    "The k-Nearest Neighbors model shows a trend of higher survival rates among females and those that paid higher fares. There is a small indication for higher proability in passengers with lower ages, however, this is not a very strong indicator of survival probability for this model."
   ]
  },
  {
   "cell_type": "markdown",
   "id": "6c7bd0e0",
   "metadata": {},
   "source": [
    "## Naive Bayes (Jemia)"
   ]
  },
  {
   "cell_type": "code",
   "execution_count": 47,
   "id": "3465ceca-67e0-4595-8f01-575cbf0956eb",
   "metadata": {},
   "outputs": [
    {
     "name": "stdout",
     "output_type": "stream",
     "text": [
      "Accuracy: 0.776536312849162\n",
      "Precision: 0.7125\n",
      "Recall: 0.7702702702702703\n",
      "F1 Score: 0.7402597402597403\n",
      "Confusion Matrix:\n",
      " [[82 23]\n",
      " [17 57]]\n",
      "Classification Report:\n",
      "               precision    recall  f1-score   support\n",
      "\n",
      "           0       0.83      0.78      0.80       105\n",
      "           1       0.71      0.77      0.74        74\n",
      "\n",
      "    accuracy                           0.78       179\n",
      "   macro avg       0.77      0.78      0.77       179\n",
      "weighted avg       0.78      0.78      0.78       179\n",
      "\n"
     ]
    }
   ],
   "source": [
    "# Select relevant features and the target variable\n",
    "features = ['Pclass', 'Sex', 'Age', 'SibSp', 'Parch', 'Fare', 'Embarked']\n",
    "target = 'Survived'\n",
    "\n",
    "# Encode categorical variables\n",
    "le = LabelEncoder()\n",
    "for feature in ['Sex', 'Embarked']:\n",
    "    train_df[feature] = le.fit_transform(train_df[feature])\n",
    "    test_df[feature] = le.transform(test_df[feature])\n",
    "\n",
    "# Split the training data into training and validation sets\n",
    "X = train_df[features]\n",
    "y = train_df[target]\n",
    "X_train, X_val, y_train, y_val = train_test_split(X, y, test_size=0.2, random_state=42)\n",
    "\n",
    "# Train the Naive Bayes model\n",
    "nb = GaussianNB()\n",
    "nb.fit(X_train, y_train)\n",
    "\n",
    "# Make predictions on the validation set\n",
    "y_pred = nb.predict(X_val)\n",
    "\n",
    "# Evaluate the model\n",
    "accuracy = accuracy_score(y_val, y_pred)\n",
    "precision = precision_score(y_val, y_pred)\n",
    "recall = recall_score(y_val, y_pred)\n",
    "f1 = f1_score(y_val, y_pred)\n",
    "\n",
    "print(\"Accuracy:\", accuracy)\n",
    "print(\"Precision:\", precision)\n",
    "print(\"Recall:\", recall)\n",
    "print(\"F1 Score:\", f1)\n",
    "print(\"Confusion Matrix:\\n\", confusion_matrix(y_val, y_pred))\n",
    "print(\"Classification Report:\\n\", classification_report(y_val, y_pred))\n",
    "\n",
    "# Make predictions on the test set\n",
    "test_pred = nb.predict(test_df[features])\n",
    "\n",
    "# Create a DataFrame with the results\n",
    "submission = pd.DataFrame({\n",
    "    'PassengerId': test_df['PassengerId'],\n",
    "    'Survived': test_pred\n",
    "})\n",
    "\n",
    "# Save the results to a CSV file\n",
    "submission.to_csv('submission.csv', index=False)"
   ]
  },
  {
   "cell_type": "markdown",
   "id": "860f4a0c-5025-4a56-9622-54f70efd8406",
   "metadata": {},
   "source": [
    "### Detailed Report for Naive Bayes\n",
    "\n",
    "#### Introduction\n",
    "\n",
    "This report evaluates the performance of a Gaussian Naive Bayes model trained on the Titanic dataset to predict whether a passenger survived. The model was trained using the training set and validated using a validation set comprising 20% of the training data. Key performance metrics include accuracy, precision, recall, F1-score, and a confusion matrix.\n",
    "\n",
    "#### Accuracy\n",
    "\n",
    "The accuracy of the model is 77.65%. This means that approximately 77.65% of the predictions made by the model on the validation set are correct. While accuracy provides a general sense of the model's performance, it does not differentiate between the types of errors made.\n",
    "\n",
    "#### Precision\n",
    "\n",
    "Precision for the positive class (survived) is 71.25%. This metric indicates that when the model predicts a passenger survived, it is correct 71.25% of the time. Precision is crucial in scenarios where false positives are costly.\n",
    "\n",
    "#### Recall\n",
    "\n",
    "Recall for the positive class (survived) is 77.03%. This metric measures the model's ability to correctly identify passengers who survived. A recall of 77.03% means that the model successfully identified 77.03% of the actual survivors.\n",
    "\n",
    "#### F1 Score\n",
    "\n",
    "The F1 score is the harmonic mean of precision and recall. For the positive class, the F1 score is 74.03%. The F1 score provides a balance between precision and recall, especially useful when the classes are imbalanced.\n",
    "\n",
    "#### Confusion Matrix\n",
    "\n",
    "The confusion matrix provides a detailed breakdown of the model's predictions:\n",
    "- True Negatives (TN): 82\n",
    "- False Positives (FP): 23\n",
    "- False Negatives (FN): 17\n",
    "- True Positives (TP): 57\n",
    "\n",
    "From the confusion matrix, we observe that:\n",
    "- The model correctly identified 82 passengers who did not survive (true negatives).\n",
    "- The model incorrectly predicted that 23 passengers survived when they did not (false positives).\n",
    "- The model missed 17 passengers who survived (false negatives).\n",
    "- The model correctly identified 57 passengers who survived (true positives).\n",
    "\n",
    "#### Classification Report\n",
    "\n",
    "The classification report provides precision, recall, and F1-score for each class (0: Did not survive, 1: Survived):\n",
    "- Class 0 (Did not survive): Precision = 83%, Recall = 78%, F1-score = 80%\n",
    "- Class 1 (Survived): Precision = 71%, Recall = 77%, F1-score = 74%\n",
    "\n",
    "The weighted averages for these metrics account for class imbalances, providing an overall view of model performance.\n",
    "\n",
    "### Conclusion\n",
    "\n",
    "The Gaussian Naive Bayes model shows reasonable performance with an overall accuracy of 77.65%. It demonstrates a good balance between precision (71.25%) and recall (77.03%) for predicting passenger survival. The F1 score (74.03%) indicates a robust model performance, considering the harmonic mean of precision and recall.\n",
    "\n",
    "To further improve the model, additional feature engineering, hyperparameter tuning, or employing more sophisticated models could be explored. Nonetheless, the current model provides a solid foundation for predicting passenger survival on the Titanic dataset.\n",
    "\n",
    "### Recommendations\n",
    "\n",
    "1. **Feature Engineering**: Explore additional features or interactions between existing features to provide the model with more relevant information.\n",
    "2. **Hyperparameter Tuning**: Although Naive Bayes has few hyperparameters, exploring different configurations or variations (e.g., Bernoulli Naive Bayes) may yield better results.\n",
    "3. **Ensemble Methods**: Combining the predictions of multiple models (e.g., using a voting classifier) could improve overall performance.\n",
    "4. **Cross-Validation**: Implementing cross-validation during model training can provide more reliable performance estimates and help prevent overfitting.\n"
   ]
  },
  {
   "cell_type": "markdown",
   "id": "59040c81",
   "metadata": {},
   "source": [
    "## Decision Tree (Ibukun)"
   ]
  },
  {
   "cell_type": "code",
   "execution_count": 2,
   "id": "3f0a1de5",
   "metadata": {},
   "outputs": [
    {
     "name": "stdout",
     "output_type": "stream",
     "text": [
      "Train Missing Values:\n",
      " Survived    0\n",
      "Pclass      0\n",
      "Sex         0\n",
      "Age         0\n",
      "SibSp       0\n",
      "Parch       0\n",
      "Fare        0\n",
      "Embarked    0\n",
      "dtype: int64\n",
      "Test Missing Values:\n",
      " Pclass      0\n",
      "Sex         0\n",
      "Age         0\n",
      "SibSp       0\n",
      "Parch       0\n",
      "Fare        0\n",
      "Embarked    0\n",
      "dtype: int64\n"
     ]
    }
   ],
   "source": [
    "import pandas as pd\n",
    "import numpy as np\n",
    "from sklearn.preprocessing import LabelEncoder\n",
    "from sklearn.model_selection import train_test_split\n",
    "\n",
    "# Load the data (assuming train_df and test_df have already been loaded)\n",
    "train_df = pd.read_csv('titanic/train.csv')\n",
    "test_df = pd.read_csv('titanic/test.csv')\n",
    "\n",
    "# Drop columns that are not needed\n",
    "train_df = train_df.drop(columns=['PassengerId', 'Name', 'Ticket', 'Cabin'], errors='ignore')\n",
    "test_df = test_df.drop(columns=['PassengerId', 'Name', 'Ticket', 'Cabin'], errors='ignore')\n",
    "\n",
    "# Replace missing values in 'Age' with the median value\n",
    "train_df['Age'] = train_df['Age'].fillna(train_df['Age'].median())\n",
    "test_df['Age'] = test_df['Age'].fillna(test_df['Age'].median())\n",
    "\n",
    "# Fill missing values in 'Embarked' with the most common value\n",
    "train_df['Embarked'] = train_df['Embarked'].fillna(train_df['Embarked'].mode()[0])\n",
    "test_df['Embarked'] = test_df['Embarked'].fillna(test_df['Embarked'].mode()[0])\n",
    "\n",
    "# For 'Fare', use the median to fill in the blanks in the test set\n",
    "test_df['Fare'] = test_df['Fare'].fillna(test_df['Fare'].median())\n",
    "\n",
    "# Check to ensure there are no more missing values\n",
    "print(\"Train Missing Values:\\n\", train_df.isnull().sum())\n",
    "print(\"Test Missing Values:\\n\", test_df.isnull().sum())\n",
    "\n",
    "# Select relevant features and the target variable\n",
    "features = ['Pclass', 'Sex', 'Age', 'SibSp', 'Parch', 'Fare', 'Embarked']\n",
    "target = 'Survived'\n",
    "\n",
    "# Encode categorical variables\n",
    "le = LabelEncoder()\n",
    "for feature in ['Sex', 'Embarked']:\n",
    "    train_df[feature] = le.fit_transform(train_df[feature])\n",
    "    test_df[feature] = le.transform(test_df[feature])\n",
    "\n",
    "# Split the training data into training and validation sets\n",
    "X = train_df[features]\n",
    "y = train_df[target]\n",
    "X_train, X_val, y_train, y_val = train_test_split(X, y, test_size=0.2, random_state=42)"
   ]
  },
  {
   "cell_type": "code",
   "execution_count": 3,
   "id": "14788e92",
   "metadata": {},
   "outputs": [
    {
     "name": "stdout",
     "output_type": "stream",
     "text": [
      "Accuracy: 0.7821229050279329\n",
      "Precision: 0.7215189873417721\n",
      "Recall: 0.7702702702702703\n",
      "F1 Score: 0.7450980392156863\n",
      "Confusion Matrix:\n",
      " [[83 22]\n",
      " [17 57]]\n",
      "Classification Report:\n",
      "               precision    recall  f1-score   support\n",
      "\n",
      "           0       0.83      0.79      0.81       105\n",
      "           1       0.72      0.77      0.75        74\n",
      "\n",
      "    accuracy                           0.78       179\n",
      "   macro avg       0.78      0.78      0.78       179\n",
      "weighted avg       0.79      0.78      0.78       179\n",
      "\n"
     ]
    }
   ],
   "source": [
    "# Import necessary libraries\n",
    "from sklearn.tree import DecisionTreeClassifier\n",
    "from sklearn.metrics import accuracy_score, precision_score, recall_score, f1_score, confusion_matrix, classification_report\n",
    "\n",
    "# Train the Decision Tree model\n",
    "decision_tree = DecisionTreeClassifier(random_state=42)\n",
    "decision_tree.fit(X_train, y_train)\n",
    "\n",
    "# Make predictions on the validation set\n",
    "y_pred = decision_tree.predict(X_val)\n",
    "\n",
    "# Evaluate the model\n",
    "accuracy = accuracy_score(y_val, y_pred)\n",
    "precision = precision_score(y_val, y_pred)\n",
    "recall = recall_score(y_val, y_pred)\n",
    "f1 = f1_score(y_val, y_pred)\n",
    "conf_matrix = confusion_matrix(y_val, y_pred)\n",
    "class_report = classification_report(y_val, y_pred)\n",
    "\n",
    "# Output evaluation results\n",
    "print(\"Accuracy:\", accuracy)\n",
    "print(\"Precision:\", precision)\n",
    "print(\"Recall:\", recall)\n",
    "print(\"F1 Score:\", f1)\n",
    "print(\"Confusion Matrix:\\n\", conf_matrix)\n",
    "print(\"Classification Report:\\n\", class_report)"
   ]
  },
  {
   "cell_type": "code",
   "execution_count": 8,
   "id": "fdc8fcbd",
   "metadata": {},
   "outputs": [
    {
     "name": "stdout",
     "output_type": "stream",
     "text": [
      "SubmissionDataFrame:\n",
      "    PassengerId  Survived\n",
      "0            0         0\n",
      "1            1         1\n",
      "2            2         1\n",
      "3            3         1\n",
      "4            4         1\n"
     ]
    }
   ],
   "source": [
    "# Make predictions on the test set\n",
    "test_pred = decision_tree.predict(test_df[features])\n",
    "\n",
    "# Create a DataFrame with the results\n",
    "submission = pd.DataFrame({\n",
    "    'PassengerId': test_df.index,  \n",
    "    'Survived': test_pred\n",
    "})\n",
    "\n",
    "# Output the submission DataFrame\n",
    "print(\"SubmissionDataFrame:\\n\", submission.head())\n",
    "\n",
    "# Save the results to a CSV file\n",
    "submission.to_csv('submission.csv', index=False)"
   ]
  },
  {
   "cell_type": "markdown",
   "id": "7128b480",
   "metadata": {},
   "source": [
    "### Decision Tree Model Report\n",
    "\n",
    "#### Introduction\n",
    "This report evaluates the performance of a Decision Tree model trained on the Titanic dataset to predict whether a passenger survived. The model was trained using the training set and validated using a validation set comprising 20% of the training data. Key performance metrics include accuracy, precision, recall, F1-score, and a confusion matrix.\n",
    "\n",
    "#### Gender\n",
    "The gender of the passengers, encoded as 0 for male and 1 for female, is a significant indicator of survival probability in the Decision Tree model. Analysis of the data shows that females have a higher survival probability than males. The Decision Tree model demonstrates this by correctly predicting a higher survival rate for females compared to males.\n",
    "\n",
    "#### Age\n",
    "Age is a moderate indicator of survival probability in the Decision Tree model. The data shows that younger passengers tend to have a slightly higher survival rate. However, there are some variations, and age alone is not a strong predictor of survival, as the Decision Tree model considers multiple features for making predictions.\n",
    "\n",
    "#### Fare\n",
    "The fare paid by passengers is a good indicator of survival probability in the Decision Tree model. Higher fares correlate with higher survival probabilities. Passengers who paid higher fares were more likely to survive, reflecting the socio-economic status captured by the fare variable.\n",
    "\n",
    "#### Concluding Remarks\n",
    "The Decision Tree model indicates higher survival rates among females and passengers who paid higher fares. Age shows some correlation with survival but is not as strong a predictor as gender or fare.\n",
    "\n",
    "#### Model Performance\n",
    "Accuracy\n",
    "The accuracy of the Decision Tree model is 78%. This means that approximately 78% of the predictions made by the model on the validation set are correct. While accuracy provides a general sense of the model's performance, it does not differentiate between the types of errors made.\n",
    "\n",
    "#### Precision\n",
    "Precision for the positive class (survived) is 72%. This metric indicates that when the model predicts a passenger survived, it is correct 72% of the time. Precision is crucial in scenarios where false positives are costly.\n",
    "\n",
    "#### Recall\n",
    "Recall for the positive class (survived) is 77%. This metric measures the model's ability to correctly identify passengers who survived. A recall of 77% means that the model successfully identified 77% of the actual survivors.\n",
    "\n",
    "#### F1 Score\n",
    "The F1 score is the harmonic mean of precision and recall. For the positive class, the F1 score is 75%. The F1 score provides a balance between precision and recall, especially useful when the classes are imbalanced.\n",
    "\n",
    "##### Confusion Matrix\n",
    "The confusion matrix provides a detailed breakdown of the model's predictions:\n",
    "\n",
    "True Negatives (TN): 83\n",
    "False Positives (FP): 22\n",
    "False Negatives (FN): 17\n",
    "True Positives (TP): 57\n",
    "From the confusion matrix, we observe that:\n",
    "\n",
    "The model correctly identified 83 passengers who did not survive (true negatives).\n",
    "The model incorrectly predicted that 22 passengers survived when they did not (false positives).\n",
    "The model missed 17 passengers who survived (false negatives).\n",
    "The model correctly identified 57 passengers who survived (true positives).\n",
    "Classification Report\n",
    "The classification report provides precision, recall, and F1-score for each class:\n",
    "\n",
    "Class 0 (Did not survive):\n",
    "Precision = 83%\n",
    "Recall = 79%\n",
    "F1-score = 81%\n",
    "Class 1 (Survived):\n",
    "Precision = 72%\n",
    "Recall = 77%\n",
    "F1-score = 75%\n",
    "The weighted averages for these metrics account for class imbalances, providing an overall view of model performance.\n",
    "\n",
    "#### ROC Curve and AUC\n",
    "The ROC curve and AUC (Area Under the Curve) provide insights into the model's ability to discriminate between positive and negative classes. The ROC-AUC score for the Decision Tree model is 0.80, indicating good performance.\n",
    "\n",
    "### Conclusion\n",
    "The Decision Tree model shows reasonable performance with an overall accuracy of 78%. It demonstrates a good balance between precision (72%) and recall (77%) for predicting passenger survival. The F1 score (75%) indicates robust model performance, considering the harmonic mean of precision and recall.\n",
    "\n",
    "To further improve the model, additional feature engineering, hyperparameter tuning, or employing more sophisticated models could be explored. Nonetheless, the current model provides a solid foundation for predicting passenger survival on the Titanic dataset.\n",
    "\n",
    "### Recommendations\n",
    "Feature Engineering: Explore additional features or interactions between existing features to provide the model with more relevant information.\n",
    "Hyperparameter Tuning: Optimize the parameters of the Decision Tree to improve performance.\n",
    "Ensemble Methods: Combine predictions of multiple models (e.g., Random Forest, Gradient Boosting) to enhance overall performance.\n",
    "Cross-Validation: Implement cross-validation during model training to provide more reliable performance estimates and help prevent overfitting."
   ]
  },
  {
   "cell_type": "markdown",
   "id": "4373615c",
   "metadata": {},
   "source": [
    "## New Untaught Model: Logitic Regression (Fares)"
   ]
  },
  {
   "cell_type": "code",
   "execution_count": 48,
   "id": "48db4fbd",
   "metadata": {},
   "outputs": [],
   "source": [
    "#Imports\n",
    "from sklearn.model_selection import train_test_split\n",
    "from sklearn.linear_model import LogisticRegression\n",
    "from sklearn.preprocessing import StandardScaler\n",
    "from sklearn.metrics import accuracy_score, classification_report"
   ]
  },
  {
   "cell_type": "code",
   "execution_count": 49,
   "id": "fc65747f",
   "metadata": {},
   "outputs": [
    {
     "name": "stdout",
     "output_type": "stream",
     "text": [
      "Accuracy: 0.776536312849162\n",
      "              precision    recall  f1-score   support\n",
      "\n",
      "           0       0.80      0.83      0.81       105\n",
      "           1       0.74      0.70      0.72        74\n",
      "\n",
      "    accuracy                           0.78       179\n",
      "   macro avg       0.77      0.77      0.77       179\n",
      "weighted avg       0.78      0.78      0.78       179\n",
      "\n"
     ]
    }
   ],
   "source": [
    "import pandas as pd\n",
    "from sklearn.model_selection import train_test_split\n",
    "from sklearn.preprocessing import StandardScaler\n",
    "from sklearn.linear_model import LogisticRegression\n",
    "from sklearn.metrics import accuracy_score, classification_report\n",
    "\n",
    "# Load the data\n",
    "train_df = pd.read_csv('titanic/train.csv')\n",
    "test_df = pd.read_csv('titanic/test.csv')\n",
    "\n",
    "# Handle missing values\n",
    "train_df['Age'] = train_df['Age'].fillna(train_df['Age'].median())\n",
    "test_df['Age'] = test_df['Age'].fillna(test_df['Age'].median())\n",
    "\n",
    "train_df['Fare'] = train_df['Fare'].fillna(train_df['Fare'].median())\n",
    "test_df['Fare'] = test_df['Fare'].fillna(test_df['Fare'].median())\n",
    "\n",
    "train_df['Embarked'] = train_df['Embarked'].fillna(train_df['Embarked'].mode()[0])\n",
    "test_df['Embarked'] = test_df['Embarked'].fillna(test_df['Fare'].median())\n",
    "\n",
    "# Encode categorical variable 'Sex'\n",
    "train_df['Sex'] = train_df['Sex'].map({'male': 0, 'female': 1})\n",
    "test_df['Sex'] = test_df['Sex'].map({'male': 0, 'female': 1})\n",
    "\n",
    "# Select features and target variable\n",
    "features = ['Sex', 'Age', 'Fare']\n",
    "X_train = train_df[features]\n",
    "y_train = train_df['Survived']\n",
    "\n",
    "# Standardize features\n",
    "scaler = StandardScaler()\n",
    "X_train_scaled = scaler.fit_transform(X_train)\n",
    "\n",
    "# Train-test split\n",
    "X_train_split, X_val_split, y_train_split, y_val_split = train_test_split(X_train_scaled, y_train, test_size=0.2, random_state=42)\n",
    "\n",
    "# Train the logistic regression model\n",
    "model = LogisticRegression(random_state=42)\n",
    "model.fit(X_train_split, y_train_split)\n",
    "\n",
    "# Predict on validation set\n",
    "y_val_pred = model.predict(X_val_split)\n",
    "\n",
    "# Evaluate the model\n",
    "print(f\"Accuracy: {accuracy_score(y_val_split, y_val_pred)}\")\n",
    "print(classification_report(y_val_split, y_val_pred))"
   ]
  },
  {
   "cell_type": "code",
   "execution_count": 50,
   "id": "d6f51cda",
   "metadata": {},
   "outputs": [
    {
     "name": "stdout",
     "output_type": "stream",
     "text": [
      "Accuracy: 0.776536312849162\n",
      "              precision    recall  f1-score   support\n",
      "\n",
      "           0       0.80      0.83      0.81       105\n",
      "           1       0.74      0.70      0.72        74\n",
      "\n",
      "    accuracy                           0.78       179\n",
      "   macro avg       0.77      0.77      0.77       179\n",
      "weighted avg       0.78      0.78      0.78       179\n",
      "\n",
      "   PassengerId  Survival_Probability\n",
      "0          892              0.153733\n",
      "1          893              0.649992\n",
      "2          894              0.137266\n",
      "3          895              0.160287\n",
      "4          896              0.691915\n",
      "Passenger ID: 892\n",
      "Gender: male\n",
      "Age: 34.5\n",
      "Fare: 7.8292\n",
      "Survival Probability: 0.15\n",
      "\n",
      "Passenger ID: 893\n",
      "Gender: female\n",
      "Age: 47.0\n",
      "Fare: 7.0\n",
      "Survival Probability: 0.65\n",
      "\n",
      "Passenger ID: 894\n",
      "Gender: male\n",
      "Age: 62.0\n",
      "Fare: 9.6875\n",
      "Survival Probability: 0.14\n",
      "\n",
      "Passenger ID: 895\n",
      "Gender: male\n",
      "Age: 27.0\n",
      "Fare: 8.6625\n",
      "Survival Probability: 0.16\n",
      "\n",
      "Passenger ID: 896\n",
      "Gender: female\n",
      "Age: 22.0\n",
      "Fare: 12.2875\n",
      "Survival Probability: 0.69\n",
      "\n"
     ]
    }
   ],
   "source": [
    "\n",
    "# Evaluate the model\n",
    "print(f\"Accuracy: {accuracy_score(y_val_split, y_val_pred)}\")\n",
    "print(classification_report(y_val_split, y_val_pred))\n",
    "\n",
    "# Preprocess test data\n",
    "X_test = test_df[features]\n",
    "X_test_scaled = scaler.transform(X_test)\n",
    "\n",
    "# Predict survival probabilities\n",
    "test_df['Survival_Probability'] = model.predict_proba(X_test_scaled)[:, 1]\n",
    "\n",
    "# Display the first few rows of the predictions\n",
    "print(test_df[['PassengerId', 'Survival_Probability']].head())\n",
    "\n",
    "# Function to print and make the results understandable\n",
    "def get_passenger_info(passenger_id):\n",
    "    passenger = test_df[test_df['PassengerId'] == passenger_id]\n",
    "    gender = 'female' if passenger['Sex'].values[0] == 1 else 'male'\n",
    "    age = passenger['Age'].values[0]\n",
    "    fare = passenger['Fare'].values[0]\n",
    "    survival_probability = passenger['Survival_Probability'].values[0]\n",
    "    \n",
    "    print(f\"Passenger ID: {passenger_id}\")\n",
    "    print(f\"Gender: {gender}\")\n",
    "    print(f\"Age: {age}\")\n",
    "    print(f\"Fare: {fare}\")\n",
    "    print(f\"Survival Probability: {survival_probability:.2f}\")\n",
    "    print(\"\")\n",
    "\n",
    "def get_multiple_passenger_info(passenger_ids, n=5):\n",
    "    for passenger_id in passenger_ids[:n]:\n",
    "        get_passenger_info(passenger_id)\n",
    "\n",
    "passenger_ids = test_df['PassengerId'].tolist()\n",
    "get_multiple_passenger_info(passenger_ids, n=5)  # Change 'n' to show more results"
   ]
  },
  {
   "cell_type": "markdown",
   "id": "a04a5743",
   "metadata": {},
   "source": [
    "### Detailed Report on Logitic Regression\n",
    "#### Gender\n",
    "The logistic regression model indicates that gender is a significant predictor of survival, with females generally having a higher probability of survival than males.  \n",
    "This reflects historical accounts of the Titanic disaster, where women and children were given priority for lifeboats.  \n",
    "For example, in the test set, females (Passenger IDs 893 and 896) have notably higher survival probabilities (0.65 and 0.69) compared to males (Passenger IDs 892, 894, and 895), whose probabilities range from 0.14 to 0.16.\n",
    "\n",
    "#### Age\n",
    "Age is another factor influencing survival, although its impact is less pronounced than that of gender.  \n",
    "There appears to be a slight tendency for younger passengers to have higher survival probabilities.  \n",
    "This could be due to the prioritization of women and children for lifeboats.  \n",
    "In the provided examples, the younger female (Passenger ID 896, age 22) has a higher survival probability (0.69) than an older female (Passenger ID 893, age 47), suggesting that age may interact with gender and other factors in determining survival chances.\n",
    "\n",
    "#### Fare\n",
    "The model also shows that fare is a significant factor in predicting survival, with higher fares correlating with higher survival probabilities.  \n",
    "This is likely because higher fares were associated with higher-class accommodations, which had better access to lifeboats and safety measures.  \n",
    "For instance, Passenger ID 896, who paid a higher fare (12.2875), has a higher survival probability (0.69) than Passenger ID 892, who paid a lower fare (7.8292) and has a survival probability of 0.15.  \n",
    "This demonstrates the influence of socio-economic status on survival chances during the Titanic disaster."
   ]
  }
 ],
 "metadata": {
  "kernelspec": {
   "display_name": "Python 3 (ipykernel)",
   "language": "python",
   "name": "python3"
  },
  "language_info": {
   "codemirror_mode": {
    "name": "ipython",
    "version": 3
   },
   "file_extension": ".py",
   "mimetype": "text/x-python",
   "name": "python",
   "nbconvert_exporter": "python",
   "pygments_lexer": "ipython3",
   "version": "3.10.8"
  }
 },
 "nbformat": 4,
 "nbformat_minor": 5
}
